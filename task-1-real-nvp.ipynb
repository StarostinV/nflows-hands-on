{
 "cells": [
  {
   "cell_type": "markdown",
   "metadata": {},
   "source": [
    "# Real-NVP: conceptual introduction to normalizing flows"
   ]
  },
  {
   "cell_type": "markdown",
   "metadata": {
    "vscode": {
     "languageId": "plaintext"
    }
   },
   "source": [
    "Paper: [DENSITY ESTIMATION USING REAL NVP](https://arxiv.org/abs/1605.08803)"
   ]
  },
  {
   "cell_type": "markdown",
   "metadata": {
    "vscode": {
     "languageId": "plaintext"
    }
   },
   "source": [
    "![Real-NVP](imgs/real-nvp-img.png)"
   ]
  },
  {
   "cell_type": "markdown",
   "metadata": {},
   "source": [
    "# General task: implement real-NVP in PyTorch and learn moons distribution"
   ]
  },
  {
   "cell_type": "markdown",
   "metadata": {},
   "source": [
    "![slide-real-nvp-example](imgs/real-nvp-moons-example-slide.png)"
   ]
  },
  {
   "cell_type": "markdown",
   "metadata": {},
   "source": [
    "\n",
    "## RealNVP Transformation\n",
    "\n",
    "The RealNVP (Real-valued Non-Volume Preserving) is a type of normalizing flows. Each RealNVP transformation consists of a coupling layer that splits the input vector $\\mathbf{x}$ into two parts and applies a transformation to one part conditioned on the other part. The transformation can be expressed as:\n",
    "\n",
    "\\begin{align*}\n",
    "y_{1:d} &= x_{1:d}, \\\\\n",
    "y_{d+1:D} &= x_{d+1:D} \\odot \\exp(s(x_{1:d})) + t(x_{1:d}),\n",
    "\\end{align*}\n",
    "\n",
    "where:\n",
    "\n",
    "- $\\mathbf{x} \\in \\mathbb{R}^D$ is the input vector,\n",
    "- $\\mathbf{y} \\in \\mathbb{R}^D$ is the transformed output vector,\n",
    "- $s: \\mathbb{R}^d \\to \\mathbb{R}^{D-d}$ is a scale function,\n",
    "- $t: \\mathbb{R}^d \\to \\mathbb{R}^{D-d}$ is a translation function,\n",
    "- $\\odot$ denotes element-wise multiplication,\n",
    "- $d$ is the dimension of the first part of the split input vector, with $D$ being the total dimension.\n",
    "\n",
    "The first part of the input vector $x_{1:d}$ remains unchanged, while the second part $x_{d+1:D}$ undergoes an affine transformation controlled by the scale and translation functions $s$ and $t$.\n",
    "\n",
    "The inverse transformation, which is required for sampling, can be derived as:\n",
    "\n",
    "\\begin{align*}\n",
    "x_{1:d} &= y_{1:d}, \\\\\n",
    "x_{d+1:D} &= (y_{d+1:D} - t(y_{1:d})) \\odot \\exp(-s(y_{1:d})).\n",
    "\\end{align*}\n",
    "\n",
    "This invertibility ensures that the flow can be used both for density estimation and for generating samples from the learned distribution."
   ]
  },
  {
   "cell_type": "markdown",
   "metadata": {},
   "source": [
    "![Real-NVP](imgs/real-nvp-forward-slide.png)"
   ]
  },
  {
   "cell_type": "markdown",
   "metadata": {},
   "source": [
    "## Q: how do we define scale and shift functions $s(x)$ and $t(x)$? "
   ]
  },
  {
   "cell_type": "markdown",
   "metadata": {},
   "source": [
    "### Scale and shift functions "
   ]
  },
  {
   "cell_type": "code",
   "execution_count": 1,
   "metadata": {},
   "outputs": [],
   "source": [
    "import torch\n",
    "from torch import nn, Tensor\n",
    "from torch.nn import functional as F\n",
    "\n",
    "\n",
    "class MLP(nn.Module):\n",
    "    \"\"\"\n",
    "    A simple multi-layer perceptron.\n",
    "    \"\"\"\n",
    "    def __init__(self, in_dim: int, hid_dims: tuple[int, ...], out_dim: int, activation=F.leaky_relu, apply_last_act: bool = False):\n",
    "        super(MLP, self).__init__()\n",
    "\n",
    "        in_dims = [in_dim] + list(hid_dims)\n",
    "        out_dims = list(hid_dims) + [out_dim]\n",
    "\n",
    "        self.linear_layers = nn.ModuleList([\n",
    "            nn.Linear(in_dim, hid_dim)\n",
    "            for in_dim, hid_dim in zip(in_dims, out_dims)\n",
    "        ])\n",
    "\n",
    "        self.activation = activation\n",
    "        self.apply_last_act = apply_last_act\n",
    "\n",
    "    def forward(self, x: Tensor, context=None) -> Tensor:\n",
    "        for layer in self.linear_layers[:-1]:\n",
    "            x = layer(x)\n",
    "            x = self.activation(x)\n",
    "\n",
    "        x = self.linear_layers[-1](x)\n",
    "\n",
    "        if self.apply_last_act:\n",
    "            x = self.activation(x)\n",
    "        return x"
   ]
  },
  {
   "cell_type": "markdown",
   "metadata": {},
   "source": [
    "# Affine coupling transformation - let us make it together"
   ]
  },
  {
   "cell_type": "code",
   "execution_count": 3,
   "metadata": {},
   "outputs": [],
   "source": [
    "batch_size = 1\n",
    "\n",
    "# What is the dimensionality of the parameter space?\n",
    "D: int = ...\n",
    "\n",
    "# How do we split the parameters? What is the dimensionality of the first part x_a = x_{1:d}?\n",
    "d: int = ...\n",
    "\n",
    "\n",
    "# 1. define (random) samples 'x' with shape (batch_size, D)\n",
    "x = ...\n",
    "\n",
    "# 2. define the scale and the shift functions (MLP). Think about input and output dimensionality.\n",
    "scale_fn = MLP(in_dim=..., hid_dims=(16, 16), out_dim=...)\n",
    "shift_fn = MLP(in_dim=..., hid_dims=(16, 16), out_dim=...)\n",
    "\n",
    "# 3. split x into two parts: x_a = x_{1:d}, x_b = x_{d+1:D}\n",
    "x_a = ...\n",
    "x_b = ...\n",
    "\n",
    "\n",
    "# 4. compute scale 's' and shift 't' using x_a\n",
    "s = ...\n",
    "t = ...\n",
    "\n",
    "# 5. apply scale and shift to perform real-nvp transformation \n",
    "# (question: why do we need exponent in the scale function?)\n",
    "y_b = ...\n",
    "\n",
    "# 6. define y as the concatenation of the splitted parts\n",
    "y = ...\n",
    "\n",
    "# 7. What else do we need for training?\n",
    "...\n",
    "\n",
    "# Q: what else do we need for inference?"
   ]
  },
  {
   "cell_type": "markdown",
   "metadata": {},
   "source": [
    "## Q: do we need to compute anything else?"
   ]
  },
  {
   "cell_type": "markdown",
   "metadata": {},
   "source": [
    "![training normalizing flows](imgs/nf-training-slide.png)"
   ]
  },
  {
   "cell_type": "markdown",
   "metadata": {},
   "source": [
    "## $\\log \\left| \\det \\frac{\\partial \\mathbf{z}}{\\partial \\mathbf{x}} \\right|$ for Real-NVP\n",
    "\n",
    "The change of variables formula allows us to transform a simple base distribution into a more complex distribution by applying a series of invertible transformations. The change of variables formula is given by:\n",
    "\n",
    "\\begin{align*}\n",
    "p_{\\mathbf{x}}(\\mathbf{x}) = p_{\\mathbf{y}}(\\mathbf{y}) \\left| \\det \\frac{\\partial \\mathbf{y}}{\\partial \\mathbf{x}} \\right|\n",
    "\\end{align*}\n",
    "\n",
    "where $p_{\\mathbf{y}}(\\mathbf{y})$ is the probability density of the base distribution, and $\\left| \\det \\frac{\\partial \\mathbf{y}}{\\partial \\mathbf{x}} \\right|$ is the absolute value of the determinant of the Jacobian matrix of the transformation.\n",
    "\n",
    "We use *log* probability densities for numerical reasons (efficiency, stability, simpler calculations):\n",
    "\n",
    "\\begin{align*}\n",
    "\\log p_{\\mathbf{x}}(\\mathbf{x}) = \\log p_{\\mathbf{y}}(\\mathbf{y}) + \\log \\left| \\det \\frac{\\partial \\mathbf{y}}{\\partial \\mathbf{x}} \\right|\n",
    "\\end{align*}"
   ]
  },
  {
   "cell_type": "markdown",
   "metadata": {},
   "source": [
    "\n",
    "\n",
    "For the RealNVP transformation, the Jacobian is triangular, making the determinant calculation straightforward:\n",
    "\n",
    "\\begin{align*}\n",
    "\\log \\left| \\det \\frac{\\partial \\mathbf{y}}{\\partial \\mathbf{x}} \\right| = \\sum_{i=1}^d s(x_{1:d})_i\n",
    "\\end{align*}\n"
   ]
  },
  {
   "cell_type": "markdown",
   "metadata": {},
   "source": [
    "### General interface of transform modules (unconditional)"
   ]
  },
  {
   "cell_type": "code",
   "execution_count": 5,
   "metadata": {},
   "outputs": [],
   "source": [
    "class UnconditionalTransform(nn.Module):\n",
    "    \"\"\"Base class for all transform objects.\"\"\"\n",
    "\n",
    "    def forward(self, x: Tensor) -> tuple[Tensor, Tensor]:\n",
    "        \"\"\"\n",
    "        Forward pass of the transform.\n",
    "        :param x: The input tensor.\n",
    "        :return: A tuple of the output tensor and the log-determinant of the Jacobian.\n",
    "        \"\"\"\n",
    "        raise NotImplementedError()\n",
    "\n",
    "    def inverse(self, y: Tensor) -> tuple[Tensor, Tensor]:\n",
    "        \"\"\"\n",
    "        Inverse pass of the transform.\n",
    "        :param y: The input tensor.\n",
    "        :return: A tuple of the output tensor and the log-determinant of the Jacobian.\n",
    "        \"\"\"\n",
    "        raise NotImplementedError()"
   ]
  },
  {
   "cell_type": "markdown",
   "metadata": {},
   "source": [
    "### Real NVP layer"
   ]
  },
  {
   "cell_type": "code",
   "execution_count": 6,
   "metadata": {},
   "outputs": [],
   "source": [
    "class AffineCouplingTransform(UnconditionalTransform):\n",
    "    \"\"\"\n",
    "    An affine coupling transform for Real-NVP.\n",
    "    \"\"\"\n",
    "    def __init__(self, mask: Tensor, hidden_features: int = 16, num_layers: int = 2):\n",
    "        \"\"\"\n",
    "        Initialize the affine coupling layer.\n",
    "\n",
    "        :param mask: A boolean tensor that indicates which parameters are transformed by the affine coupling layer.\n",
    "            True means that the parameter is passed through unchanged (x_{1:d}), False means that it is transformed (x_{d+1:D}).\n",
    "        :param hidden_features: The number of hidden features in the scale and shift MLP networks. \n",
    "        :param num_layers: The number of layers in the scale and shift MLP networks. \n",
    "        \"\"\"\n",
    "        super().__init__()\n",
    "\n",
    "        # The mask used to split the input tensor into two parts\n",
    "        self.mask = mask\n",
    "\n",
    "        # The number of parameters that will stay unchanged (d in the paper notation)\n",
    "        num_unchanged_params: int = mask.sum().item()\n",
    "\n",
    "        # The number of parameters that will be transformed (D - d in the paper notation)\n",
    "        num_transformed_params: int = mask.size(0) - num_unchanged_params\n",
    "\n",
    "        # Define the scale network (MLP) with the given hidden features and number of layers\n",
    "        self.scale = MLP(num_unchanged_params, [hidden_features] * num_layers, num_transformed_params)\n",
    "\n",
    "        # Define the shift network (MLP) with the same structure as the scale network\n",
    "        self.shift = MLP(num_unchanged_params, [hidden_features] * num_layers, num_transformed_params)\n",
    "\n",
    "\n",
    "    def forward(self, x: Tensor) -> Tensor:\n",
    "        \"\"\"\n",
    "        Forward pass of the affine coupling layer.\n",
    "        :param x: Input tensor of shape (batch_size, num_features).\n",
    "        :return: Transformed tensor and the log-determinant of the Jacobian.\n",
    "        \"\"\"\n",
    "        # Split the input tensor x into two parts, x_a (x_{1:d}) and x_b (x_{d+1:D})\n",
    "        x_a, x_b = x[:, self.mask], x[:, ~self.mask]\n",
    "\n",
    "        # Calculate the scale and shift terms from x_a\n",
    "        log_scale = self.scale(x_a)\n",
    "        shift = self.shift(x_a)\n",
    "\n",
    "        # The first part of x remains unchanged\n",
    "        y_a = x_a\n",
    "\n",
    "        # Apply the affine transformation to x_b\n",
    "        y_b = x_b * torch.exp(log_scale) + shift\n",
    "\n",
    "        # Calculate the log-determinant of the Jacobian\n",
    "        logdetjac = log_scale.sum(dim=1)\n",
    "\n",
    "        # Concatenate y_a and inverse transformed x_b to get the original input tensor\n",
    "        # Respecting the order in the mask\n",
    "        y = torch.empty_like(x)\n",
    "        y[:, self.mask] = y_a\n",
    "        y[:, ~self.mask] = y_b\n",
    "\n",
    "        # Return the output tensor and the log-determinant of the Jacobian\n",
    "        return y, logdetjac\n",
    "\n",
    "\n",
    "    def inverse(self, y: Tensor) -> Tensor:\n",
    "        \"\"\"\n",
    "        Inverse pass of the affine coupling layer.\n",
    "        :param y: Transformed tensor of shape (batch_size, num_features).\n",
    "        :return: A tuple of the output tensor and the log-determinant of the Jacobian.\n",
    "        \"\"\"\n",
    "\n",
    "        # TODO: define the inverse transformation using forward implementation as an example\n",
    "\n",
    "        # 1. Split the transformed tensor y into two parts, y_a (y_{1:d}) and y_b (y_{d+1:D})\n",
    "        y_a, y_b = ...\n",
    "\n",
    "        # 2. Calculate the scale and shift terms from y_a\n",
    "        log_scale = ...\n",
    "        shift = ...\n",
    "\n",
    "        # 3. The first part of y remains unchanged\n",
    "        x_a = ...\n",
    "\n",
    "        # 4. Apply the inverse affine transformation to y_b to get x_b\n",
    "        x_b = ...\n",
    "\n",
    "        # 5. Calculate the log-determinant of the Jacobian of the inverse (!) transformation\n",
    "        logdetjac = ...\n",
    "\n",
    "        # 6. Concatenate y_a and inverse transformed x_b to get the original input tensor\n",
    "        # respecting the order in the mask\n",
    "        x = torch.empty_like(y)\n",
    "        ...\n",
    "\n",
    "        # Return the original input tensor and the log-determinant of the Jacobian\n",
    "        return x, logdetjac"
   ]
  },
  {
   "cell_type": "markdown",
   "metadata": {},
   "source": [
    "# Q: how can we test that the transform is implemented correctly?"
   ]
  },
  {
   "cell_type": "code",
   "execution_count": 39,
   "metadata": {},
   "outputs": [],
   "source": [
    "batch_size = 10\n",
    "D: int = 10\n",
    "d: int = 5\n",
    "\n",
    "# Define the mask for the affine coupling layer\n",
    "mask = torch.zeros(D, dtype=torch.bool)\n",
    "mask[:d] = True\n",
    "\n",
    "# Define the input tensor x\n",
    "x = torch.randn(batch_size, D)\n",
    "\n",
    "# Create an instance of the affine coupling layer\n",
    "affine_coupling = AffineCouplingTransform(mask)\n",
    "\n",
    "# Forward pass of the affine coupling layer\n",
    "y, logdetjac = affine_coupling(x)\n",
    "\n",
    "# Inverse pass of the affine coupling layer\n",
    "x_inv, logdetjac_inv = affine_coupling.inverse(y)\n",
    "\n",
    "# Check if the inverse transformation is correct\n",
    "assert torch.allclose(x, x_inv), \"The inverse transformation is not correct.\"\n",
    "\n",
    "# Check if the log-determinant of the Jacobian is correct\n",
    "assert torch.allclose(logdetjac, -logdetjac_inv), \"The log-determinant of the Jacobian is not correct.\""
   ]
  },
  {
   "cell_type": "markdown",
   "metadata": {},
   "source": [
    "## Combine transformations"
   ]
  },
  {
   "cell_type": "code",
   "execution_count": 7,
   "metadata": {},
   "outputs": [],
   "source": [
    "class CompositeTransform(UnconditionalTransform):\n",
    "    \"\"\"\n",
    "    A composition of transformations.\n",
    "    \"\"\"\n",
    "    def __init__(self, transforms: list[UnconditionalTransform]):\n",
    "        super().__init__()\n",
    "\n",
    "        # Create a list of affine coupling layers\n",
    "        self.transforms = nn.ModuleList(list(transforms))\n",
    "\n",
    "    def forward(self, x: Tensor) -> tuple[Tensor, Tensor]:\n",
    "        \"\"\"\n",
    "        Forward pass of the sequence of affine coupling layers.\n",
    "        :param x: Input tensor of shape (batch_size, num_features\n",
    "        :return: Transformed tensor and the log-determinant of the Jacobian.\n",
    "        \"\"\"\n",
    "        logdetjac = torch.zeros(x.size(0), device=x.device)\n",
    "\n",
    "        # Apply each affine coupling layer in the sequence\n",
    "        for transform in self.transforms:\n",
    "            x, ldj = transform(x)\n",
    "            logdetjac += ldj\n",
    "\n",
    "        return x, logdetjac\n",
    "    \n",
    "    def inverse(self, y: Tensor) -> tuple[Tensor, Tensor]:\n",
    "        \"\"\"\n",
    "        Inverse pass of the sequence of affine coupling layers.\n",
    "        :param y: Transformed tensor of shape (batch_size, num_features).\n",
    "        :return: A tuple of the output tensor and the log-determinant of the Jacobian.\n",
    "        \"\"\"\n",
    "        logdetjac = torch.zeros(y.size(0), device=y.device)\n",
    "\n",
    "        # Apply each affine coupling layer in the sequence in reverse order\n",
    "        for transform in reversed(self.transforms):\n",
    "            y, ldj = transform.inverse(y)\n",
    "            logdetjac += ldj\n",
    "\n",
    "        return y, logdetjac"
   ]
  },
  {
   "cell_type": "markdown",
   "metadata": {},
   "source": [
    "## Data (synthetic \"moons\" dataset)"
   ]
  },
  {
   "cell_type": "code",
   "execution_count": 42,
   "metadata": {},
   "outputs": [],
   "source": [
    "import matplotlib.pyplot as plt\n",
    "%matplotlib inline"
   ]
  },
  {
   "cell_type": "code",
   "execution_count": 41,
   "metadata": {},
   "outputs": [],
   "source": [
    "def sample_moons(n_samples: int, noise: float = 0.1) -> Tensor:\n",
    "    \"\"\"\n",
    "    Sample a moons dataset using scikit-learn.\n",
    "    :param n_samples: The number of samples to generate.\n",
    "    :param noise: The standard deviation of the Gaussian noise added to the data.\n",
    "    :return: A tensor of shape (n_samples, 2) containing the samples.\n",
    "    \"\"\"\n",
    "    from sklearn.datasets import make_moons\n",
    "\n",
    "    # draw samples from the training distribution\n",
    "    moon_samples, _ = make_moons(n_samples=n_samples, noise=noise)\n",
    "\n",
    "    # Convert the data to a PyTorch tensor\n",
    "    return torch.tensor(moon_samples, dtype=torch.float32)"
   ]
  },
  {
   "cell_type": "code",
   "execution_count": 43,
   "metadata": {},
   "outputs": [
    {
     "data": {
      "text/plain": [
       "<matplotlib.collections.PathCollection at 0x20b543f93d0>"
      ]
     },
     "execution_count": 43,
     "metadata": {},
     "output_type": "execute_result"
    },
    {
     "data": {
      "image/png": "[encoded data removed]",
      "text/plain": [
       "<Figure size 640x480 with 1 Axes>"
      ]
     },
     "metadata": {},
     "output_type": "display_data"
    }
   ],
   "source": [
    "samples = sample_moons(1000)\n",
    "\n",
    "plt.scatter(samples[:, 0], samples[:, 1], s=10)"
   ]
  },
  {
   "cell_type": "markdown",
   "metadata": {},
   "source": [
    "# Define transforms"
   ]
  },
  {
   "cell_type": "code",
   "execution_count": 44,
   "metadata": {},
   "outputs": [
    {
     "name": "stdout",
     "output_type": "stream",
     "text": [
      "tensor([ True, False])\n",
      "tensor([False,  True])\n"
     ]
    }
   ],
   "source": [
    "# Build a simple Real-NVP model with several affine coupling layers\n",
    "\n",
    "transforms = []\n",
    "D = 2\n",
    "num_transforms = 2\n",
    "hidden_features = 16\n",
    "num_mlp_layers = 2\n",
    "\n",
    "for i in range(num_transforms):\n",
    "    # Create a mask for the affine coupling layer\n",
    "    mask = torch.arange(D) % 2 == i % 2\n",
    "    print(mask)\n",
    "\n",
    "    # Create an affine coupling layer with 16 hidden features and 2 layers\n",
    "    transform = AffineCouplingTransform(mask, hidden_features, num_layers=num_mlp_layers)\n",
    "\n",
    "    # Add the affine coupling layer to the list of transforms\n",
    "    transforms.append(transform)\n",
    "\n",
    "\n",
    "# Create a sequence of affine coupling layers\n",
    "transforms = CompositeTransform(transforms)\n"
   ]
  },
  {
   "cell_type": "markdown",
   "metadata": {},
   "source": [
    "# Q: what are the two operations that normalizing flows (density estimator) provide? "
   ]
  },
  {
   "cell_type": "markdown",
   "metadata": {},
   "source": [
    "## Define Flows object"
   ]
  },
  {
   "cell_type": "code",
   "execution_count": 15,
   "metadata": {},
   "outputs": [],
   "source": [
    "class RealNVPFlows(nn.Module):\n",
    "    def __init__(self, transform: UnconditionalTransform, base_dist):\n",
    "        super().__init__()\n",
    "        self.transform = transform\n",
    "        self.base_dist = base_dist\n",
    "\n",
    "    def sample(self, num_samples: int) -> Tensor:\n",
    "        \"\"\"\n",
    "        Sample from the RealNVP model.\n",
    "        :param num_samples: The number of samples to generate.\n",
    "        :return: A tensor of shape (num_samples, num_features) containing the samples.\n",
    "        \"\"\"\n",
    "        samples = self.base_dist.sample((num_samples, ))\n",
    "        return self.transform.inverse(samples)[0]\n",
    "\n",
    "    def log_prob(self, samples: Tensor) -> Tensor:\n",
    "        \"\"\"\n",
    "        Evaluate the log-probability density of the RealNVP model.\n",
    "        :param samples: A tensor of shape (batch_size, num_features) containing the samples.\n",
    "        :return: A tensor of shape (batch_size,) containing the log-probability densities.\n",
    "        \"\"\"\n",
    "        z, logdetjac = self.transform(samples)\n",
    "        return self.base_dist.log_prob(z).sum(-1) + logdetjac\n",
    "\n",
    "\n",
    "    def to(self, device):\n",
    "        super().to(device)\n",
    "        self.transform.to(device)\n",
    "\n",
    "        # some dirty workaround - torch distributions are not nn.Module subclasses\n",
    "\n",
    "        for k, t in list(base_dist.__dict__.items()):\n",
    "            if isinstance(t, Tensor):\n",
    "                setattr(base_dist, k, t.to(device))\n",
    "        return self"
   ]
  },
  {
   "cell_type": "code",
   "execution_count": 16,
   "metadata": {},
   "outputs": [],
   "source": [
    "from torch.distributions import Normal"
   ]
  },
  {
   "cell_type": "code",
   "execution_count": null,
   "metadata": {},
   "outputs": [],
   "source": [
    "\n",
    "base_dist = Normal(torch.zeros(D), torch.ones(D))\n",
    "\n",
    "flow = RealNVPFlows(transforms, base_dist)\n",
    "\n",
    "print('Number of parameters: ', sum(p.numel() for p in flow.parameters()))"
   ]
  },
  {
   "cell_type": "markdown",
   "metadata": {},
   "source": [
    "# Train the model"
   ]
  },
  {
   "cell_type": "code",
   "execution_count": 47,
   "metadata": {},
   "outputs": [],
   "source": [
    "from tqdm.notebook import tqdm, trange\n",
    "from torch.optim import Adam"
   ]
  },
  {
   "cell_type": "code",
   "execution_count": 48,
   "metadata": {},
   "outputs": [],
   "source": [
    "device = 'cuda' if torch.cuda.is_available() else 'cpu'\n",
    "\n",
    "flow.to(device)\n",
    "\n",
    "optim = Adam(flow.parameters(), lr=1e-3)\n",
    "\n",
    "flow.train();"
   ]
  },
  {
   "cell_type": "code",
   "execution_count": 49,
   "metadata": {},
   "outputs": [
    {
     "data": {
      "application/vnd.jupyter.widget-view+json": {
       "model_id": "7a3e47e6c0454ee4bbcb7f9936f76dd3",
       "version_major": 2,
       "version_minor": 0
      },
      "text/plain": [
       "  0%|          | 0/5000 [00:00<?, ?it/s]"
      ]
     },
     "metadata": {},
     "output_type": "display_data"
    }
   ],
   "source": [
    "# training loop\n",
    "\n",
    "num_training_iterations = 5000\n",
    "batch_size = 256\n",
    "losses = []\n",
    "\n",
    "pbar = trange(num_training_iterations)\n",
    "\n",
    "for training_iter in pbar:\n",
    "    optim.zero_grad()\n",
    "\n",
    "    # sample training minibatch\n",
    "    samples = sample_moons(batch_size).to(device)\n",
    "\n",
    "    # calculate log probabilities for these samples\n",
    "    log_prob = flow.log_prob(samples)\n",
    "\n",
    "    # evaluate loss\n",
    "    loss = -log_prob.mean()\n",
    "\n",
    "    loss.backward()\n",
    "    optim.step()\n",
    "\n",
    "    losses.append(loss.item())\n",
    "\n",
    "    pbar.set_description(f\"Loss: {loss.item():.2e}\")\n"
   ]
  },
  {
   "cell_type": "code",
   "execution_count": 50,
   "metadata": {},
   "outputs": [
    {
     "data": {
      "text/plain": [
       "[<matplotlib.lines.Line2D at 0x20b52231050>]"
      ]
     },
     "execution_count": 50,
     "metadata": {},
     "output_type": "execute_result"
    },
    {
     "data": {
      "image/png": "[encoded data removed]",
      "text/plain": [
       "<Figure size 640x480 with 1 Axes>"
      ]
     },
     "metadata": {},
     "output_type": "display_data"
    }
   ],
   "source": [
    "plt.plot(losses)"
   ]
  },
  {
   "cell_type": "markdown",
   "metadata": {},
   "source": [
    "# Visualizations"
   ]
  },
  {
   "cell_type": "code",
   "execution_count": 51,
   "metadata": {},
   "outputs": [],
   "source": [
    "def plot_density_on_grid(flow):\n",
    "    \"\"\"\n",
    "    Evaluate the density of the flow model on a 2D grid and plot it.\n",
    "    \"\"\"\n",
    "    fig, ax = plt.subplots(1, 1)\n",
    "    xline = torch.linspace(-1.5, 2.5, 100)\n",
    "    yline = torch.linspace(-.75, 1.25, 100)\n",
    "    xgrid, ygrid = torch.meshgrid(xline, yline)\n",
    "    xyinput = torch.cat([xgrid.reshape(-1, 1), ygrid.reshape(-1, 1)], dim=1)\n",
    "\n",
    "    flow.eval()\n",
    "\n",
    "    with torch.no_grad():\n",
    "        zgrid = flow.log_prob(xyinput.to(device)).cpu().exp().reshape(100, 100)\n",
    "\n",
    "    ax.contourf(xgrid.numpy(), ygrid.numpy(), zgrid.numpy())\n",
    "    plt.show()\n"
   ]
  },
  {
   "cell_type": "code",
   "execution_count": 2,
   "metadata": {},
   "outputs": [],
   "source": [
    "plot_density_on_grid(flow)"
   ]
  },
  {
   "cell_type": "code",
   "execution_count": 3,
   "metadata": {},
   "outputs": [],
   "source": [
    "# sample\n",
    "\n",
    "flow.eval()\n",
    "\n",
    "with torch.no_grad():\n",
    "    samples = flow.sample(5000)\n",
    "\n",
    "plt.scatter(samples[:, 0].cpu().numpy(), samples[:, 1].cpu().numpy(), s=10)"
   ]
  },
  {
   "cell_type": "code",
   "execution_count": 4,
   "metadata": {},
   "outputs": [],
   "source": [
    "import seaborn as sns\n",
    "\n",
    "\n",
    "def plot_samples(samples, title=None):\n",
    "\n",
    "    joint_plot = sns.jointplot(x=samples[:, 0].cpu().numpy(), y=samples[:, 1].cpu().numpy(), s=10)\n",
    "    joint_plot.set_axis_labels('x1', 'x2')\n",
    "    \n",
    "    if title:\n",
    "        plt.suptitle(title, y=1.03)\n",
    "\n",
    "    plt.show()\n",
    "\n",
    "flow.eval()\n",
    "\n",
    "with torch.no_grad():\n",
    "    base_samples = flow.base_dist.sample((1000, ))\n",
    "    plot_samples(base_samples, 'Base distribution')\n",
    "\n",
    "    x = base_samples\n",
    "    for i, transform in enumerate(reversed(flow.transform.transforms)):\n",
    "        x, _ = transform.inverse(x)\n",
    "        plot_samples(x, f'Transform #{i + 1}')"
   ]
  },
  {
   "cell_type": "markdown",
   "metadata": {},
   "source": [
    "# Trace every sample"
   ]
  },
  {
   "cell_type": "code",
   "execution_count": null,
   "metadata": {},
   "outputs": [],
   "source": [
    "import torch\n",
    "import matplotlib.pyplot as plt\n",
    "import seaborn as sns\n",
    "import numpy as np\n",
    "\n",
    "\n",
    "def plot_samples(samples, colors, title=None):\n",
    "    \"\"\"\n",
    "    Plot samples with colors based on their polar angle.\n",
    "    :param samples: Tensor of shape (num_samples, 2)\n",
    "    :param colors: Numpy array of colors.\n",
    "    :param title: Optional title for the plot.\n",
    "    \"\"\"\n",
    "    # Plot using seaborn jointplot\n",
    "\n",
    "    plt.scatter(samples[:, 0].cpu().numpy(), samples[:, 1].cpu().numpy(), s=10, c=colors)\n",
    "    \n",
    "    if title:\n",
    "        plt.title(title, y=1.03)\n",
    "\n",
    "    plt.show()\n",
    "\n",
    "# Ensure the flow is in evaluation mode\n",
    "flow.eval()\n",
    "\n",
    "with torch.no_grad():\n",
    "    # Sample from the base distribution\n",
    "    base_samples = flow.base_dist.sample((1000, ))\n",
    "\n",
    "    # Compute the polar angles and assign colors\n",
    "    polar_angles = torch.atan2(base_samples[:, 1], base_samples[:, 0]).cpu().numpy()\n",
    "    colors = plt.get_cmap('jet')((polar_angles + np.pi) / (2 * np.pi))  # Normalize angles to [0, 1] for coloring\n",
    "\n",
    "    # Plot the base samples with colors\n",
    "    plot_samples(base_samples, colors, 'Base distribution')\n",
    "\n",
    "    # Transform the samples and plot each step while maintaining colors\n",
    "    x = base_samples\n",
    "    for i, transform in enumerate(reversed(flow.transform.transforms)):\n",
    "        x, _ = transform.inverse(x)\n",
    "        plot_samples(x, colors, f'Transform #{i + 1}')"
   ]
  }
 ],
 "metadata": {
  "kernelspec": {
   "display_name": "Python 3",
   "language": "python",
   "name": "python3"
  },
  "language_info": {
   "codemirror_mode": {
    "name": "ipython",
    "version": 3
   },
   "file_extension": ".py",
   "mimetype": "text/x-python",
   "name": "python",
   "nbconvert_exporter": "python",
   "pygments_lexer": "ipython3",
   "version": "3.11.9"
  }
 },
 "nbformat": 4,
 "nbformat_minor": 2
}
