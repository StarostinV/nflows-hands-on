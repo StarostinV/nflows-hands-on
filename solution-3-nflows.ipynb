{
 "cells": [
  {
   "cell_type": "markdown",
   "metadata": {},
   "source": [
    "# nflows package"
   ]
  },
  {
   "cell_type": "code",
   "execution_count": 1,
   "metadata": {},
   "outputs": [],
   "source": [
    "# Classes implemented in the previous task\n",
    "\n",
    "from nflows.transforms import AffineCouplingTransform\n",
    "from nflows.transforms.base import CompositeTransform\n",
    "from nflows.flows.base import Flow\n",
    "from nflows.distributions.normal import StandardNormal"
   ]
  },
  {
   "cell_type": "code",
   "execution_count": 2,
   "metadata": {},
   "outputs": [],
   "source": [
    "# Let us try more expressive transforms!\n",
    "\n",
    "from nflows.transforms.autoregressive import MaskedAffineAutoregressiveTransform   # MAF (from the lecture)\n",
    "from nflows.transforms import PiecewiseRationalQuadraticCouplingTransform  # neural spline flows https://arxiv.org/abs/1906.04032\n",
    "from nflows.transforms import BatchNorm  # introduced along with the Real-NVP"
   ]
  },
  {
   "cell_type": "markdown",
   "metadata": {},
   "source": [
    "# Define the flow"
   ]
  },
  {
   "cell_type": "markdown",
   "metadata": {},
   "source": [
    "In nflows, the scale and shift neural networks are merged into one - this enables a flexible API where any invertible parameterized transform $g_{\\theta}(x)$ is defined by a number or respective parameters $\\theta$. In the case of real-nvp, there are two parameters: $g_{s, t}(x) = x \\cdot \\exp(s) + t$."
   ]
  },
  {
   "cell_type": "code",
   "execution_count": 5,
   "metadata": {},
   "outputs": [],
   "source": [
    "import torch\n",
    "from torch import nn, Tensor\n",
    "import torch.nn.functional as F\n",
    "\n",
    "from nflows.nn.nets import ResidualNet\n",
    "\n",
    "def get_nn_for_transform_parameters(context_features: int,  hidden_features: int = 64, num_blocks: int = 2, activation=F.gelu, use_batch_norm: bool = True):\n",
    "    def func(in_dim: int, out_dim: int):\n",
    "        return ResidualNet(\n",
    "            in_dim, out_dim, hidden_features=hidden_features,\n",
    "            context_features=context_features, num_blocks=num_blocks, activation=activation, use_batch_norm=use_batch_norm\n",
    "        )\n",
    "    return func"
   ]
  },
  {
   "cell_type": "code",
   "execution_count": 6,
   "metadata": {},
   "outputs": [
    {
     "name": "stdout",
     "output_type": "stream",
     "text": [
      "Number of parameters: 7920720\n"
     ]
    }
   ],
   "source": [
    "num_transforms = 10\n",
    "D = 784\n",
    "hid_dim = 64\n",
    "context_features = 2  # number of digits\n",
    "hidden_features = 64\n",
    "num_blocks = 3\n",
    "\n",
    "\n",
    "base_dist = StandardNormal(shape=[D])\n",
    "\n",
    "transforms = []\n",
    "\n",
    "for i in range(num_transforms):\n",
    "    mask = torch.arange(D) % 2 == i % 2\n",
    "\n",
    "    # use random permutation\n",
    "    mask = mask[torch.randperm(D)]\n",
    "\n",
    "    transforms.append(\n",
    "        PiecewiseRationalQuadraticCouplingTransform(mask, get_nn_for_transform_parameters(\n",
    "            context_features=context_features,\n",
    "            hidden_features=hidden_features,\n",
    "            num_blocks=num_blocks,\n",
    "        ), tail_bound=5, tails='linear',\n",
    "        )   \n",
    "    )\n",
    "\n",
    "    transforms.append(BatchNorm(features=D))\n",
    "\n",
    "transform = CompositeTransform(transforms)\n",
    "\n",
    "flow = Flow(transform, base_dist)\n",
    "\n",
    "print('Number of parameters:', sum(p.numel() for p in flow.parameters()))\n"
   ]
  },
  {
   "cell_type": "markdown",
   "metadata": {},
   "source": [
    "# MNIST dataset"
   ]
  },
  {
   "cell_type": "markdown",
   "metadata": {},
   "source": [
    "### Define dataset"
   ]
  },
  {
   "cell_type": "code",
   "execution_count": 7,
   "metadata": {},
   "outputs": [],
   "source": [
    "from torch.optim import Adam, AdamW\n",
    "from torch.utils.data import DataLoader, Subset\n",
    "from torchvision import datasets, transforms\n",
    "import numpy as np\n",
    "\n",
    "\n",
    "# Define the MNIST dataset with preprocessing\n",
    "class NoisyMNIST(datasets.MNIST):\n",
    "    def __init__(self, *args, noise_std=0.1, subset_digits=None, **kwargs):\n",
    "        super().__init__(*args, **kwargs)\n",
    "        self.noise_std = noise_std\n",
    "        self.subset_digits = subset_digits if subset_digits is not None else list(range(10))\n",
    "        self.num_classes = len(self.subset_digits)\n",
    "        self.mapping = {digit: idx for idx, digit in enumerate(self.subset_digits)}\n",
    "    \n",
    "    def __getitem__(self, index):\n",
    "        img, target = super().__getitem__(index)\n",
    "        noise = torch.randn_like(img) * self.noise_std\n",
    "        img = img + noise\n",
    "        img = (img - img.mean()) / img.std()  # Standardize the image\n",
    "        mapped_target = torch.tensor(self.mapping.get(target, -1))\n",
    "\n",
    "        if mapped_target.item() < 0:\n",
    "            return img, target, None\n",
    "\n",
    "        one_hot_target = F.one_hot(mapped_target, self.num_classes).float()\n",
    "        return img, target, one_hot_target"
   ]
  },
  {
   "cell_type": "markdown",
   "metadata": {},
   "source": [
    "### Pick your two favorite digits"
   ]
  },
  {
   "cell_type": "code",
   "execution_count": 8,
   "metadata": {},
   "outputs": [],
   "source": [
    "# Define the subset of digits to use\n",
    "subset_digits = [0, 7]  # Modify this list to select the desired digits\n",
    "\n",
    "\n",
    "# Load the MNIST dataset\n",
    "transform = transforms.Compose([transforms.ToTensor()])\n",
    "train_dataset = NoisyMNIST(root='./data', train=True, download=True, transform=transform, subset_digits=subset_digits)\n",
    "test_dataset = NoisyMNIST(root='./data', train=False, download=True, transform=transform, subset_digits=subset_digits)"
   ]
  },
  {
   "cell_type": "code",
   "execution_count": 9,
   "metadata": {},
   "outputs": [],
   "source": [
    "# Filter the dataset to include only the desired digits\n",
    "def filter_digits(dataset, digits):\n",
    "    indices = [i for i, (_, target, _) in enumerate(dataset) if target in digits]\n",
    "    return Subset(dataset, indices)\n",
    "\n",
    "\n",
    "train_dataset = filter_digits(train_dataset, subset_digits)\n",
    "test_dataset = filter_digits(test_dataset, subset_digits)\n",
    "\n",
    "train_loader = DataLoader(train_dataset, batch_size=64, shuffle=True)\n",
    "test_loader = DataLoader(test_dataset, batch_size=64, shuffle=False)"
   ]
  },
  {
   "cell_type": "markdown",
   "metadata": {},
   "source": [
    "# Train"
   ]
  },
  {
   "cell_type": "code",
   "execution_count": 10,
   "metadata": {},
   "outputs": [],
   "source": [
    "from tqdm.notebook import trange, tqdm\n",
    "\n",
    "import matplotlib.pyplot as plt\n",
    "%matplotlib inline"
   ]
  },
  {
   "cell_type": "code",
   "execution_count": 12,
   "metadata": {},
   "outputs": [
    {
     "data": {
      "application/vnd.jupyter.widget-view+json": {
       "model_id": "d253154bffed49ab82690635b06140c8",
       "version_major": 2,
       "version_minor": 0
      },
      "text/plain": [
       "  0%|          | 0/10 [00:00<?, ?it/s]"
      ]
     },
     "metadata": {},
     "output_type": "display_data"
    },
    {
     "data": {
      "application/vnd.jupyter.widget-view+json": {
       "model_id": "8adebdac2b9e44a78a7f58f9904a5929",
       "version_major": 2,
       "version_minor": 0
      },
      "text/plain": [
       "  0%|          | 0/191 [00:00<?, ?it/s]"
      ]
     },
     "metadata": {},
     "output_type": "display_data"
    }
   ],
   "source": [
    "device = 'cuda' if torch.cuda.is_available() else 'cpu'\n",
    "device = 'cpu'\n",
    "\n",
    "flow.to(device)\n",
    "\n",
    "optim = AdamW(flow.parameters(), lr=1e-3)\n",
    "\n",
    "# Training loop\n",
    "num_epochs = 10\n",
    "\n",
    "pbar = trange(num_epochs)\n",
    "\n",
    "losses = []\n",
    "\n",
    "for epoch in pbar:\n",
    "    flow.train()\n",
    "    total_loss = 0\n",
    "\n",
    "    epoch_pbar = tqdm(train_loader)\n",
    "\n",
    "    for i, batch in enumerate(epoch_pbar):\n",
    "        optim.zero_grad()\n",
    "        imgs, _, context = batch\n",
    "        imgs = imgs.view(imgs.size(0), -1)  # Flatten the images\n",
    "        loss = - flow.log_prob(imgs.to(device), context=context.to(device)).mean() \n",
    "        loss.backward()\n",
    "        optim.step()\n",
    "        total_loss += loss.item() \n",
    "\n",
    "        epoch_pbar.set_description(f'current loss: {total_loss/  (i + 1):.2e}')\n",
    "    \n",
    "    avg_loss = total_loss / len(train_loader)\n",
    "    pbar.set_description(f'Epoch {epoch + 1}/{num_epochs}, Loss: {avg_loss:.2e}')\n",
    "\n",
    "    losses.append(avg_loss)\n",
    "\n",
    "    flow.eval();\n",
    "\n",
    "    with torch.no_grad():\n",
    "        sample = flow.sample(1, context=torch.tensor([[1, 0]]).float().to(device))\n",
    "        img = sample.view(28, 28).cpu().numpy()\n",
    "        plt.imshow(img)\n",
    "        plt.show()"
   ]
  },
  {
   "cell_type": "markdown",
   "metadata": {},
   "source": [
    "# Tests"
   ]
  },
  {
   "cell_type": "code",
   "execution_count": 105,
   "metadata": {},
   "outputs": [
    {
     "data": {
      "text/plain": [
       "<matplotlib.image.AxesImage at 0x1aee9a33c50>"
      ]
     },
     "execution_count": 105,
     "metadata": {},
     "output_type": "execute_result"
    },
    {
     "data": {
      "image/png": "[encoded data removed]",
      "text/plain": [
       "<Figure size 640x480 with 2 Axes>"
      ]
     },
     "metadata": {},
     "output_type": "display_data"
    }
   ],
   "source": [
    "flow.eval();\n",
    "\n",
    "with torch.no_grad():\n",
    "    img1 = flow.sample(1, context=torch.tensor([[1, 0]]).float().cuda()).view(28, 28).cpu().numpy()\n",
    "    img2 = flow.sample(1, context=torch.tensor([[0, 1]]).float().cuda()).view(28, 28).cpu().numpy()\n",
    "\n",
    "fig, axs = plt.subplots(ncols=2, )\n",
    "axs[0].imshow(img1)\n",
    "axs[1].imshow(img2)\n"
   ]
  },
  {
   "cell_type": "code",
   "execution_count": null,
   "metadata": {},
   "outputs": [],
   "source": []
  }
 ],
 "metadata": {
  "kernelspec": {
   "display_name": "Python 3",
   "language": "python",
   "name": "python3"
  },
  "language_info": {
   "codemirror_mode": {
    "name": "ipython",
    "version": 3
   },
   "file_extension": ".py",
   "mimetype": "text/x-python",
   "name": "python",
   "nbconvert_exporter": "python",
   "pygments_lexer": "ipython3",
   "version": "3.11.9"
  }
 },
 "nbformat": 4,
 "nbformat_minor": 2
}
